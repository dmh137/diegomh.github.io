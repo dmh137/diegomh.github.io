{
 "cells": [
  {
   "cell_type": "code",
   "execution_count": null,
   "metadata": {},
   "outputs": [],
   "source": []
  },
  {
   "cell_type": "code",
   "execution_count": 1,
   "metadata": {},
   "outputs": [
    {
     "data": {
      "text/plain": [
       "4"
      ]
     },
     "execution_count": 1,
     "metadata": {},
     "output_type": "execute_result"
    }
   ],
   "source": [
    "2+2"
   ]
  },
  {
   "cell_type": "markdown",
   "metadata": {},
   "source": [
    "---\n",
    "Hola\n",
    "---"
   ]
  },
  {
   "cell_type": "markdown",
   "metadata": {},
   "source": [
    "---\n"
   ]
  },
  {
   "cell_type": "markdown",
   "metadata": {},
   "source": [
    "he conocido las mejores versiones de muchas personas pero he cometido el error de sentirme dominado por algunos hechos irregulres que hasn sucedido en mi vida."
   ]
  },
  {
   "cell_type": "markdown",
   "metadata": {},
   "source": [
    "pero aca un ejemplo que debo aprender de mi errores \n",
    "\n",
    "pero como siempre debo aprender a dormir mucho mas que cuando estoy despierto"
   ]
  },
  {
   "cell_type": "markdown",
   "metadata": {},
   "source": [
    "* aveces quisera dormirme"
   ]
  },
  {
   "cell_type": "markdown",
   "metadata": {},
   "source": [
    "*aveces es mejor estar solo que mal compañad*"
   ]
  },
  {
   "cell_type": "markdown",
   "metadata": {},
   "source": [
    "pero siempre debemos comprender que hya razones en la vida que nos ssucitan mas cosas de las que podemos comprender asi que la vida es tan inconmensaurable que me siento vcio aveces"
   ]
  },
  {
   "cell_type": "markdown",
   "metadata": {},
   "source": [
    "[desteelo](https://www.youtube.com/watch?v=xuYKfx2VZ9o&ab_channel=%EB%94%94%EC%95%84Dia)"
   ]
  },
  {
   "cell_type": "markdown",
   "metadata": {},
   "source": []
  }
 ],
 "metadata": {
  "kernelspec": {
   "display_name": "Python 3",
   "language": "python",
   "name": "python3"
  },
  "language_info": {
   "codemirror_mode": {
    "name": "ipython",
    "version": 3
   },
   "file_extension": ".py",
   "mimetype": "text/x-python",
   "name": "python",
   "nbconvert_exporter": "python",
   "pygments_lexer": "ipython3",
   "version": "3.12.1"
  }
 },
 "nbformat": 4,
 "nbformat_minor": 2
}
